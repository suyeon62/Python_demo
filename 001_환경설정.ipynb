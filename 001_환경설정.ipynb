{
  "nbformat": 4,
  "nbformat_minor": 0,
  "metadata": {
    "colab": {
      "provenance": [],
      "toc_visible": true,
      "authorship_tag": "ABX9TyO6eD3Ln1faEfrlxUPi9OuA",
      "include_colab_link": true
    },
    "kernelspec": {
      "name": "python3",
      "display_name": "Python 3"
    },
    "language_info": {
      "name": "python"
    }
  },
  "cells": [
    {
      "cell_type": "markdown",
      "metadata": {
        "id": "view-in-github",
        "colab_type": "text"
      },
      "source": [
        "<a href=\"https://colab.research.google.com/github/suyeon62/Python_demo/blob/master/001_%ED%99%98%EA%B2%BD%EC%84%A4%EC%A0%95.ipynb\" target=\"_parent\"><img src=\"https://colab.research.google.com/assets/colab-badge.svg\" alt=\"Open In Colab\"/></a>"
      ]
    },
    {
      "cell_type": "markdown",
      "source": [
        "C"
      ],
      "metadata": {
        "id": "D6jPbPOFKyLp"
      }
    },
    {
      "cell_type": "markdown",
      "source": [
        "Ctrl + Enter : 실행\n",
        "Shift + Enter : 실행 + 다음 라인 이동\n",
        "Alt + Enter : 실행 + 새로운 라인 추가\n",
        "\n",
        "리눅스 명령을 입력할 때 앞에 ! 입력\n",
        "ex) !pwd : 현재 위치 표시\n",
        "\n",
        "주석을 달 때는 #를 누르고 입력\n",
        "esc를 누르고 b를 누르면 새로운 셀 생성\n",
        "\n",
        "esc : 명령 상태 변환"
      ],
      "metadata": {
        "id": "kd2qGqUWNowR"
      }
    },
    {
      "cell_type": "code",
      "execution_count": null,
      "metadata": {
        "id": "lPF5_jfgJ6k0",
        "colab": {
          "base_uri": "https://localhost:8080/"
        },
        "outputId": "39908702-a981-41dd-c168-86225e6238d7"
      },
      "outputs": [
        {
          "output_type": "execute_result",
          "data": {
            "text/plain": [
              "2"
            ]
          },
          "metadata": {},
          "execution_count": 6
        }
      ],
      "source": [
        "1+1"
      ]
    },
    {
      "cell_type": "code",
      "source": [
        "print('Hello')"
      ],
      "metadata": {
        "colab": {
          "base_uri": "https://localhost:8080/"
        },
        "id": "krlHnd0MQLqa",
        "outputId": "5ad0631d-043b-4f64-b76d-fbc1b9c1ec0f"
      },
      "execution_count": null,
      "outputs": [
        {
          "output_type": "stream",
          "name": "stdout",
          "text": [
            "Hello\n"
          ]
        }
      ]
    },
    {
      "cell_type": "code",
      "source": [
        "#현재위치\n",
        "!pwd\n",
        "\n",
        "/content"
      ],
      "metadata": {
        "id": "D0tQe0dWQ3wt"
      },
      "execution_count": null,
      "outputs": []
    },
    {
      "cell_type": "markdown",
      "source": [
        "#1.구글 코랩 환경"
      ],
      "metadata": {
        "id": "_f5YxgCcUxyc"
      }
    },
    {
      "cell_type": "code",
      "source": [
        "# os\n",
        "!cat /etc/issue.net"
      ],
      "metadata": {
        "colab": {
          "base_uri": "https://localhost:8080/"
        },
        "id": "QIoXtSJ6UekU",
        "outputId": "4ee3e6bf-c098-4246-90d3-aed6e0390c43"
      },
      "execution_count": null,
      "outputs": [
        {
          "output_type": "stream",
          "name": "stdout",
          "text": [
            "Ubuntu 22.04.2 LTS\n"
          ]
        }
      ]
    },
    {
      "cell_type": "code",
      "source": [
        "# 결과가 x86_64로 나오면 현재 설치된 운영체제는 64bit 이다.\n",
        "!uname -i"
      ],
      "metadata": {
        "colab": {
          "base_uri": "https://localhost:8080/"
        },
        "id": "-EZSQzJSRR6w",
        "outputId": "90435147-30ea-4261-8dfe-c094102f758f"
      },
      "execution_count": null,
      "outputs": [
        {
          "output_type": "stream",
          "name": "stdout",
          "text": [
            "x86_64\n"
          ]
        }
      ]
    },
    {
      "cell_type": "code",
      "source": [
        "# cpu\n",
        "!head /proc/cpuinfo"
      ],
      "metadata": {
        "colab": {
          "base_uri": "https://localhost:8080/"
        },
        "id": "Y57nXtDwVzK-",
        "outputId": "3c909db1-7eba-4e04-b139-23c2685c81f3"
      },
      "execution_count": null,
      "outputs": [
        {
          "output_type": "stream",
          "name": "stdout",
          "text": [
            "processor\t: 0\n",
            "vendor_id\t: GenuineIntel\n",
            "cpu family\t: 6\n",
            "model\t\t: 79\n",
            "model name\t: Intel(R) Xeon(R) CPU @ 2.20GHz\n",
            "stepping\t: 0\n",
            "microcode\t: 0xffffffff\n",
            "cpu MHz\t\t: 2200.214\n",
            "cache size\t: 56320 KB\n",
            "physical id\t: 0\n"
          ]
        }
      ]
    },
    {
      "cell_type": "code",
      "source": [
        "# memory\n",
        "!head /proc/meminfo"
      ],
      "metadata": {
        "colab": {
          "base_uri": "https://localhost:8080/"
        },
        "id": "gf_Yg4bkV-Pb",
        "outputId": "90fdc96f-c918-4b8b-e857-780dd3677cff"
      },
      "execution_count": null,
      "outputs": [
        {
          "output_type": "stream",
          "name": "stdout",
          "text": [
            "MemTotal:       13294208 kB\n",
            "MemFree:        10379668 kB\n",
            "MemAvailable:   12377240 kB\n",
            "Buffers:           58608 kB\n",
            "Cached:          2144748 kB\n",
            "SwapCached:            0 kB\n",
            "Active:           685444 kB\n",
            "Inactive:        2017432 kB\n",
            "Active(anon):       1832 kB\n",
            "Inactive(anon):   499940 kB\n"
          ]
        }
      ]
    },
    {
      "cell_type": "markdown",
      "source": [
        "# 2. 구글 코랩 드라이버 연동"
      ],
      "metadata": {
        "id": "L6j_gnbrWiMt"
      }
    },
    {
      "cell_type": "code",
      "source": [
        "!pwd\n",
        "/content"
      ],
      "metadata": {
        "id": "pFyi7fNCgG9A"
      },
      "execution_count": null,
      "outputs": []
    },
    {
      "cell_type": "code",
      "source": [
        "# 구글 드라이버 연동\n",
        "from google.colab import drive\n",
        "drive.mount('/content/drive')"
      ],
      "metadata": {
        "colab": {
          "base_uri": "https://localhost:8080/"
        },
        "id": "iX9b3fowW8qf",
        "outputId": "91f1ff1a-a8c6-4523-d049-c409aa5b3daa"
      },
      "execution_count": null,
      "outputs": [
        {
          "output_type": "stream",
          "name": "stdout",
          "text": [
            "Drive already mounted at /content/drive; to attempt to forcibly remount, call drive.mount(\"/content/drive\", force_remount=True).\n"
          ]
        }
      ]
    },
    {
      "cell_type": "code",
      "source": [
        "%cd /content/drive/MyDrive/Python"
      ],
      "metadata": {
        "colab": {
          "base_uri": "https://localhost:8080/"
        },
        "id": "n3BrX89eXt-q",
        "outputId": "7c82edf8-faee-4cd9-cd83-4fca8cd082ca"
      },
      "execution_count": null,
      "outputs": [
        {
          "output_type": "stream",
          "name": "stdout",
          "text": [
            "/content/drive/MyDrive/Python\n"
          ]
        }
      ]
    },
    {
      "cell_type": "code",
      "source": [
        "!ls"
      ],
      "metadata": {
        "colab": {
          "base_uri": "https://localhost:8080/"
        },
        "id": "bpAWrqLjYMT-",
        "outputId": "12349d05-2bb4-4df3-c970-31c5e74c45c3"
      },
      "execution_count": null,
      "outputs": [
        {
          "output_type": "stream",
          "name": "stdout",
          "text": [
            "001_환경설정.ipynb  asset\n"
          ]
        }
      ]
    },
    {
      "cell_type": "markdown",
      "source": [
        "# 3. 구글 드라이브 이미지 colab markcown에 넣기"
      ],
      "metadata": {
        "id": "Ary3CQpkYtYU"
      }
    },
    {
      "cell_type": "code",
      "source": [
        "# 이미지 주소 복사 : 이미지 단축메뉴에서 링크 -> 공유 복사\n",
        "url = \"https://drive.google.com/file/d/1hQYRDLcX5TliVH2z88NM8ezY9t2nHQ11/view?usp=drive_link\"\n",
        "\n",
        "path = \"https://drive.google.com/uc?export=download&id=\"+url.split(\"/\")[-2]\n",
        "size = \"width=\\\"\\\" \" + \"height=\\\"\\\" \"\n",
        "tag = \"<img src='\"+path+\"' /><br/>\"\n",
        "print(\" >Path : \", path)\n",
        "print('\\n', \">Tag : \", tag)"
      ],
      "metadata": {
        "colab": {
          "base_uri": "https://localhost:8080/"
        },
        "id": "Iub9YqO1YsdV",
        "outputId": "fb73e3f7-28bc-473b-af84-c415051e7f88"
      },
      "execution_count": null,
      "outputs": [
        {
          "output_type": "stream",
          "name": "stdout",
          "text": [
            " >Path :  https://drive.google.com/uc?export=download&id=1hQYRDLcX5TliVH2z88NM8ezY9t2nHQ11\n",
            "\n",
            " >Tag :  <img src='https://drive.google.com/uc?export=download&id=1hQYRDLcX5TliVH2z88NM8ezY9t2nHQ11' /><br/>\n"
          ]
        }
      ]
    },
    {
      "cell_type": "markdown",
      "source": [
        "<img src='https://drive.google.com/uc?export=download&id=1hQYRDLcX5TliVH2z88NM8ezY9t2nHQ11' />\n",
        "\n",
        "드라이브에서 이미지를 가져올 때\n",
        "-> 위와 같은 과정으로 주소를 뽑아와서 텍스트에 붙이기\n",
        "\n",
        "인터넷 링크를 통해 이미지를 가져올 때\n",
        "-> 그대로 인터넷 링크를 입력하면 됨\n",
        "사이즈는 텍스트에 입력 시 입력해도 됨"
      ],
      "metadata": {
        "id": "qJGCQhRVeh5e"
      }
    },
    {
      "cell_type": "code",
      "source": [],
      "metadata": {
        "id": "mJz6AN41eCUf"
      },
      "execution_count": null,
      "outputs": []
    },
    {
      "cell_type": "markdown",
      "source": [
        "# 4. python 버전 확인"
      ],
      "metadata": {
        "id": "Eh-Dreb1e24n"
      }
    },
    {
      "cell_type": "code",
      "source": [
        "#python --소문자 or -대문자\n",
        "!python --version\n",
        "!python -V"
      ],
      "metadata": {
        "colab": {
          "base_uri": "https://localhost:8080/"
        },
        "id": "RCp2XYEje5mq",
        "outputId": "b218e6dc-8df9-40ab-c645-1b45ca94887d"
      },
      "execution_count": null,
      "outputs": [
        {
          "output_type": "stream",
          "name": "stdout",
          "text": [
            "Python 3.10.12\n",
            "Python 3.10.12\n"
          ]
        }
      ]
    },
    {
      "cell_type": "markdown",
      "source": [
        "# 5. pip로 설치된 라이브러리 확인"
      ],
      "metadata": {
        "id": "LDV99HqhjRX4"
      }
    },
    {
      "cell_type": "code",
      "source": [
        "#freeze 설치된 목록\n",
        "#!pip freeze"
      ],
      "metadata": {
        "id": "rZdJ-dXLjPJg"
      },
      "execution_count": null,
      "outputs": []
    },
    {
      "cell_type": "markdown",
      "source": [
        "# 6. 판다스 라이브러리 탑재"
      ],
      "metadata": {
        "id": "_GkLNGubkiKB"
      }
    },
    {
      "cell_type": "code",
      "source": [
        "import pandas as pd"
      ],
      "metadata": {
        "id": "tWX-r4BykhJ7"
      },
      "execution_count": null,
      "outputs": []
    },
    {
      "cell_type": "code",
      "source": [
        "# 설치된 모든 라이브러리 확인\n",
        "pd.show_versions()"
      ],
      "metadata": {
        "colab": {
          "base_uri": "https://localhost:8080/"
        },
        "id": "LszgaRJSkngv",
        "outputId": "68a5163a-75f2-4592-cd74-8b35896d4f48"
      },
      "execution_count": null,
      "outputs": [
        {
          "output_type": "stream",
          "name": "stderr",
          "text": [
            "/usr/local/lib/python3.10/dist-packages/_distutils_hack/__init__.py:33: UserWarning: Setuptools is replacing distutils.\n",
            "  warnings.warn(\"Setuptools is replacing distutils.\")\n"
          ]
        },
        {
          "output_type": "stream",
          "name": "stdout",
          "text": [
            "\n",
            "INSTALLED VERSIONS\n",
            "------------------\n",
            "commit           : 2e218d10984e9919f0296931d92ea851c6a6faf5\n",
            "python           : 3.10.12.final.0\n",
            "python-bits      : 64\n",
            "OS               : Linux\n",
            "OS-release       : 5.15.120+\n",
            "Version          : #1 SMP Wed Aug 30 11:19:59 UTC 2023\n",
            "machine          : x86_64\n",
            "processor        : x86_64\n",
            "byteorder        : little\n",
            "LC_ALL           : en_US.UTF-8\n",
            "LANG             : en_US.UTF-8\n",
            "LOCALE           : en_US.UTF-8\n",
            "\n",
            "pandas           : 1.5.3\n",
            "numpy            : 1.23.5\n",
            "pytz             : 2023.3.post1\n",
            "dateutil         : 2.8.2\n",
            "setuptools       : 67.7.2\n",
            "pip              : 23.1.2\n",
            "Cython           : 3.0.5\n",
            "pytest           : 7.4.3\n",
            "hypothesis       : None\n",
            "sphinx           : 5.0.2\n",
            "blosc            : None\n",
            "feather          : None\n",
            "xlsxwriter       : None\n",
            "lxml.etree       : 4.9.3\n",
            "html5lib         : 1.1\n",
            "pymysql          : None\n",
            "psycopg2         : 2.9.9\n",
            "jinja2           : 3.1.2\n",
            "IPython          : 7.34.0\n",
            "pandas_datareader: 0.10.0\n",
            "bs4              : 4.11.2\n",
            "bottleneck       : None\n",
            "brotli           : None\n",
            "fastparquet      : None\n",
            "fsspec           : 2023.6.0\n",
            "gcsfs            : 2023.6.0\n",
            "matplotlib       : 3.7.1\n",
            "numba            : 0.58.1\n",
            "numexpr          : 2.8.7\n",
            "odfpy            : None\n",
            "openpyxl         : 3.1.2\n",
            "pandas_gbq       : 0.17.9\n",
            "pyarrow          : 9.0.0\n",
            "pyreadstat       : None\n",
            "pyxlsb           : None\n",
            "s3fs             : None\n",
            "scipy            : 1.11.3\n",
            "snappy           : None\n",
            "sqlalchemy       : 2.0.23\n",
            "tables           : 3.8.0\n",
            "tabulate         : 0.9.0\n",
            "xarray           : 2023.7.0\n",
            "xlrd             : 2.0.1\n",
            "xlwt             : None\n",
            "zstandard        : None\n",
            "tzdata           : None\n"
          ]
        }
      ]
    },
    {
      "cell_type": "markdown",
      "source": [
        "# 7. 구글 코랩에서 그래프 한글 문제 해결"
      ],
      "metadata": {
        "id": "5T4k1xarlPlp"
      }
    },
    {
      "cell_type": "code",
      "source": [
        "# 나눔 폰트 설치\n",
        "!sudo apt-get install -y fonts-nanum\n",
        "!sudo fc-cache -fv\n",
        "!rm ~/.cache/matplotlib -rf"
      ],
      "metadata": {
        "colab": {
          "base_uri": "https://localhost:8080/"
        },
        "id": "3qw78HKMlPKT",
        "outputId": "f77a735e-8aff-429a-fb4e-589fbc3cf828"
      },
      "execution_count": null,
      "outputs": [
        {
          "output_type": "stream",
          "name": "stdout",
          "text": [
            "Reading package lists... Done\n",
            "Building dependency tree... Done\n",
            "Reading state information... Done\n",
            "fonts-nanum is already the newest version (20200506-1).\n",
            "0 upgraded, 0 newly installed, 0 to remove and 19 not upgraded.\n",
            "/usr/share/fonts: caching, new cache contents: 0 fonts, 1 dirs\n",
            "/usr/share/fonts/truetype: caching, new cache contents: 0 fonts, 3 dirs\n",
            "/usr/share/fonts/truetype/humor-sans: caching, new cache contents: 1 fonts, 0 dirs\n",
            "/usr/share/fonts/truetype/liberation: caching, new cache contents: 16 fonts, 0 dirs\n",
            "/usr/share/fonts/truetype/nanum: caching, new cache contents: 12 fonts, 0 dirs\n",
            "/usr/local/share/fonts: caching, new cache contents: 0 fonts, 0 dirs\n",
            "/root/.local/share/fonts: skipping, no such directory\n",
            "/root/.fonts: skipping, no such directory\n",
            "/usr/share/fonts/truetype: skipping, looped directory detected\n",
            "/usr/share/fonts/truetype/humor-sans: skipping, looped directory detected\n",
            "/usr/share/fonts/truetype/liberation: skipping, looped directory detected\n",
            "/usr/share/fonts/truetype/nanum: skipping, looped directory detected\n",
            "/var/cache/fontconfig: cleaning cache directory\n",
            "/root/.cache/fontconfig: not cleaning non-existent cache directory\n",
            "/root/.fontconfig: not cleaning non-existent cache directory\n",
            "fc-cache: succeeded\n"
          ]
        }
      ]
    },
    {
      "cell_type": "markdown",
      "source": [
        "## 런타임 > 런타임 다시 시작 후 아래 소스 실행"
      ],
      "metadata": {
        "id": "enb4yqP-lx8i"
      }
    },
    {
      "cell_type": "code",
      "source": [
        "#한글이 깨지지 않도록 아래 과정을 해줘야 함\n",
        "import numpy as np\n",
        "import pandas as pd\n",
        "import matplotlib as mp\n",
        "import matplotlib.pyplot as plt\n",
        "import seaborn as sns\n",
        "\n",
        "plt.rc('font', family='NanumBarunGothic')\n",
        "\n",
        "# grid는 격자무늬를 표시한다.\n",
        "plt.title('한글')\n",
        "plt.grid()\n",
        "plt.xlabel('x축')\n",
        "plt.ylabel('y축', rotation=0)\n",
        "#x축 눈금\n",
        "plt.xticks([1,2,3], rotation=20)\n",
        "\n",
        "plt.yticks(ticks=[2,3,4], labels=['A','B','C'])\n",
        "\n",
        "plt.ylim(0,5)\n",
        "plt.plot([1,2,3])"
      ],
      "metadata": {
        "colab": {
          "base_uri": "https://localhost:8080/",
          "height": 491
        },
        "id": "t2yBIJPFlpVL",
        "outputId": "7eb3ca6d-e967-4d8b-9cb4-60b13d7c59ff"
      },
      "execution_count": null,
      "outputs": [
        {
          "output_type": "execute_result",
          "data": {
            "text/plain": [
              "[<matplotlib.lines.Line2D at 0x7a13fcfb0070>]"
            ]
          },
          "metadata": {},
          "execution_count": 2
        },
        {
          "output_type": "display_data",
          "data": {
            "text/plain": [
              "<Figure size 640x480 with 1 Axes>"
            ],
            "image/png": "[encoded data removed]"
          },
          "metadata": {}
        }
      ]
    }
  ]
}